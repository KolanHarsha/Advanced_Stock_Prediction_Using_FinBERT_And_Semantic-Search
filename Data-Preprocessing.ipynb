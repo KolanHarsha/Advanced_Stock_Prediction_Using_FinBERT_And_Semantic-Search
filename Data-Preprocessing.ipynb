{
 "cells": [
  {
   "cell_type": "code",
   "execution_count": 1,
   "id": "213d2a8c-68c4-42b1-b122-9da9236221a8",
   "metadata": {},
   "outputs": [],
   "source": [
    "import pandas as pd\n",
    "from transformers import BertTokenizer\n",
    "import numpy as np\n",
    "import matplotlib.pyplot as plt"
   ]
  },
  {
   "cell_type": "code",
   "execution_count": 2,
   "id": "f033925d-397d-48bb-a749-dc9f50ca158b",
   "metadata": {},
   "outputs": [],
   "source": [
    "df=pd.read_csv(r\"C:\\Users\\Harsha\\FinBert-Stock prediction\\dataset\\analyst_ratings_processed.csv\")"
   ]
  },
  {
   "cell_type": "code",
   "execution_count": 4,
   "id": "60b29a14-4704-428b-ace6-9658b5c33e1a",
   "metadata": {
    "scrolled": true
   },
   "outputs": [
    {
     "data": {
      "text/html": [
       "<div>\n",
       "<style scoped>\n",
       "    .dataframe tbody tr th:only-of-type {\n",
       "        vertical-align: middle;\n",
       "    }\n",
       "\n",
       "    .dataframe tbody tr th {\n",
       "        vertical-align: top;\n",
       "    }\n",
       "\n",
       "    .dataframe thead th {\n",
       "        text-align: right;\n",
       "    }\n",
       "</style>\n",
       "<table border=\"1\" class=\"dataframe\">\n",
       "  <thead>\n",
       "    <tr style=\"text-align: right;\">\n",
       "      <th></th>\n",
       "      <th>Unnamed: 0</th>\n",
       "      <th>title</th>\n",
       "      <th>date</th>\n",
       "      <th>stock</th>\n",
       "    </tr>\n",
       "  </thead>\n",
       "  <tbody>\n",
       "    <tr>\n",
       "      <th>0</th>\n",
       "      <td>0.0</td>\n",
       "      <td>Stocks That Hit 52-Week Highs On Friday</td>\n",
       "      <td>2020-06-05 10:30:00-04:00</td>\n",
       "      <td>A</td>\n",
       "    </tr>\n",
       "    <tr>\n",
       "      <th>1</th>\n",
       "      <td>1.0</td>\n",
       "      <td>Stocks That Hit 52-Week Highs On Wednesday</td>\n",
       "      <td>2020-06-03 10:45:00-04:00</td>\n",
       "      <td>A</td>\n",
       "    </tr>\n",
       "    <tr>\n",
       "      <th>2</th>\n",
       "      <td>2.0</td>\n",
       "      <td>71 Biggest Movers From Friday</td>\n",
       "      <td>2020-05-26 04:30:00-04:00</td>\n",
       "      <td>A</td>\n",
       "    </tr>\n",
       "    <tr>\n",
       "      <th>3</th>\n",
       "      <td>3.0</td>\n",
       "      <td>46 Stocks Moving In Friday's Mid-Day Session</td>\n",
       "      <td>2020-05-22 12:45:00-04:00</td>\n",
       "      <td>A</td>\n",
       "    </tr>\n",
       "    <tr>\n",
       "      <th>4</th>\n",
       "      <td>4.0</td>\n",
       "      <td>B of A Securities Maintains Neutral on Agilent...</td>\n",
       "      <td>2020-05-22 11:38:00-04:00</td>\n",
       "      <td>A</td>\n",
       "    </tr>\n",
       "  </tbody>\n",
       "</table>\n",
       "</div>"
      ],
      "text/plain": [
       "   Unnamed: 0                                              title  \\\n",
       "0         0.0            Stocks That Hit 52-Week Highs On Friday   \n",
       "1         1.0         Stocks That Hit 52-Week Highs On Wednesday   \n",
       "2         2.0                      71 Biggest Movers From Friday   \n",
       "3         3.0       46 Stocks Moving In Friday's Mid-Day Session   \n",
       "4         4.0  B of A Securities Maintains Neutral on Agilent...   \n",
       "\n",
       "                        date stock  \n",
       "0  2020-06-05 10:30:00-04:00     A  \n",
       "1  2020-06-03 10:45:00-04:00     A  \n",
       "2  2020-05-26 04:30:00-04:00     A  \n",
       "3  2020-05-22 12:45:00-04:00     A  \n",
       "4  2020-05-22 11:38:00-04:00     A  "
      ]
     },
     "execution_count": 4,
     "metadata": {},
     "output_type": "execute_result"
    }
   ],
   "source": [
    "df.head()"
   ]
  },
  {
   "cell_type": "code",
   "execution_count": 5,
   "id": "13f2d9f1-7ff4-4f33-b3c9-a690c5e6561c",
   "metadata": {
    "scrolled": true
   },
   "outputs": [
    {
     "data": {
      "text/plain": [
       "(1400469, 4)"
      ]
     },
     "execution_count": 5,
     "metadata": {},
     "output_type": "execute_result"
    }
   ],
   "source": [
    "df.shape"
   ]
  },
  {
   "cell_type": "code",
   "execution_count": 8,
   "id": "3ee5b30b-38fb-4898-92de-8f5fcae9a52a",
   "metadata": {},
   "outputs": [
    {
     "name": "stdout",
     "output_type": "stream",
     "text": [
      "6193\n"
     ]
    }
   ],
   "source": [
    "Number_of_stocks=len(df['stock'].unique())\n",
    "print(Number_of_stocks)"
   ]
  },
  {
   "cell_type": "code",
   "execution_count": 20,
   "id": "0c45d286-4bd6-4364-8fbc-9677d10648e4",
   "metadata": {},
   "outputs": [],
   "source": [
    "tokenizer = BertTokenizer.from_pretrained(\"ProsusAI/finbert\")\n",
    "\n",
    "\n",
    "df_temp = df\n",
    "\n",
    "token_lengths = df_temp['title'].apply(lambda x: len(tokenizer.encode(x, add_special_tokens=True)))"
   ]
  },
  {
   "cell_type": "code",
   "execution_count": 21,
   "id": "fcb55d24-e907-42dc-8730-59052749f441",
   "metadata": {},
   "outputs": [
    {
     "data": {
      "image/png": "[encoded data removed]",
      "text/plain": [
       "<Figure size 1000x600 with 1 Axes>"
      ]
     },
     "metadata": {},
     "output_type": "display_data"
    }
   ],
   "source": [
    "plt.figure(figsize=(10, 6))\n",
    "plt.hist(token_lengths, bins=30, edgecolor='black', color='skyblue')\n",
    "plt.title('Distribution of Token Lengths')\n",
    "plt.xlabel('Token Length')\n",
    "plt.ylabel('Frequency')\n",
    "plt.show()"
   ]
  },
  {
   "cell_type": "code",
   "execution_count": 4,
   "id": "ddf4a4ca-35bc-4dca-99bf-b4c0e3da0c76",
   "metadata": {},
   "outputs": [
    {
     "name": "stderr",
     "output_type": "stream",
     "text": [
      "C:\\Windows\\Temp\\ipykernel_1680\\2017123262.py:10: DeprecationWarning: DataFrameGroupBy.apply operated on the grouping columns. This behavior is deprecated, and in a future version of pandas the grouping columns will be excluded from the operation. Either pass `include_groups=False` to exclude the groupings or explicitly select the grouping columns after groupby to silence this warning.\n",
      "  grouped = df.groupby(['stock', 'month_year']).apply(lambda x: x[['title', 'date']].to_dict('records')).reset_index(name='data')\n"
     ]
    }
   ],
   "source": [
    "df['date'] = pd.to_datetime(df['date'], errors='coerce',utc=True)\n",
    "\n",
    "# Filter out rows where 'date' is NaT (i.e., where date was invalid)\n",
    "df = df.dropna(subset=['date'])\n",
    "\n",
    "# Extract month and year into a new column\n",
    "df['month_year'] = df['date'].apply(lambda x: x.strftime('%Y-%m'))\n",
    "\n",
    "# Group by 'stock' and 'month_year', and aggregate 'title' and 'date'\n",
    "grouped = df.groupby(['stock', 'month_year']).apply(lambda x: x[['title', 'date']].to_dict('records')).reset_index(name='data')\n",
    "\n",
    "# Convert the grouped data into the desired dictionary structure\n",
    "grouped_data = {}\n",
    "for index, row in grouped.iterrows():\n",
    "    stock = row['stock']\n",
    "    month_year = row['month_year']\n",
    "    if stock not in grouped_data:\n",
    "        grouped_data[stock] = {}\n",
    "    grouped_data[stock][month_year] = row['data']"
   ]
  },
  {
   "cell_type": "code",
   "execution_count": 5,
   "id": "087cf25e-d3b7-485b-a6fd-90baea07b926",
   "metadata": {
    "scrolled": true
   },
   "outputs": [
    {
     "data": {
      "text/plain": [
       "6192"
      ]
     },
     "execution_count": 5,
     "metadata": {},
     "output_type": "execute_result"
    }
   ],
   "source": [
    "len(grouped_data)"
   ]
  },
  {
   "cell_type": "code",
   "execution_count": 8,
   "id": "c664d1ab-5f89-48f2-a7a0-5078bee01876",
   "metadata": {},
   "outputs": [],
   "source": [
    "import copy\n",
    "\n",
    "# Deep copy the original grouped_data to ensure it's not modified\n",
    "training_data = copy.deepcopy(grouped_data)\n",
    "\n",
    "# Iterate over the copied dictionary and filter out month_year with less than 5 items\n",
    "for stock in list(training_data.keys()):\n",
    "    for month_year in list(training_data[stock].keys()):\n",
    "        if len(training_data[stock][month_year]) < 5:\n",
    "            del training_data[stock][month_year]\n",
    "\n",
    "    # If a stock has no remaining month_year, remove the stock from the dictionary\n",
    "    if not training_data[stock]:\n",
    "        del training_data[stock]"
   ]
  },
  {
   "cell_type": "code",
   "execution_count": 9,
   "id": "5f0581d4-82c8-453a-9f57-1e4c3419d4d8",
   "metadata": {},
   "outputs": [
    {
     "data": {
      "text/plain": [
       "4543"
      ]
     },
     "execution_count": 9,
     "metadata": {},
     "output_type": "execute_result"
    }
   ],
   "source": [
    "len(training_data)"
   ]
  },
  {
   "cell_type": "code",
   "execution_count": 13,
   "id": "5348e09c-d887-408b-90c8-c101c591a7d9",
   "metadata": {},
   "outputs": [],
   "source": [
    "import json\n",
    "import datetime\n",
    "\n",
    "def format_datetime(dt):\n",
    "    # Format the datetime object to a string without the timezone\n",
    "    dt_str = dt.strftime('%Y-%m-%d %H:%M:%S')\n",
    "    # Get the timezone offset in hours and minutes\n",
    "    offset_hour = int(dt.utcoffset().total_seconds() / 3600)\n",
    "    offset_min = int((dt.utcoffset().total_seconds() % 3600) / 60)\n",
    "    # Format the timezone offset\n",
    "    offset_str = f\"{offset_hour:+03d}:{offset_min:02d}\"\n",
    "    # Combine the datetime string with the timezone offset\n",
    "    return f\"{dt_str}{offset_str}\"\n",
    "\n",
    "# File path for the .jsonl file\n",
    "file_path = 'training_data.jsonl'\n",
    "\n",
    "# Open the file in write mode\n",
    "with open(file_path, 'w') as file:\n",
    "    # Iterate over each stock in training_data\n",
    "    for stock, month_years in training_data.items():\n",
    "        # Iterate over each month_year and its corresponding data\n",
    "        for month_year, entries in month_years.items():\n",
    "            # Convert datetime objects to formatted strings in each entry\n",
    "            for entry in entries:\n",
    "                if isinstance(entry['date'], datetime.datetime):\n",
    "                    entry['date'] = format_datetime(entry['date'])\n",
    "            json_object = json.dumps({\n",
    "                \"stock\": stock,\n",
    "                \"month_year\": month_year,\n",
    "                \"data\": entries\n",
    "            })\n",
    "            # Write the JSON object to the file with a newline character\n",
    "            file.write(json_object + '\\n')"
   ]
  },
  {
   "cell_type": "markdown",
   "id": "276c32ae-1485-4cd9-9446-801c851dfcdc",
   "metadata": {},
   "source": [
    "****PolygonAPI-Demo****"
   ]
  },
  {
   "cell_type": "code",
   "execution_count": 30,
   "id": "c5bf23d9-5222-4a24-ac07-ba78db81adb7",
   "metadata": {},
   "outputs": [],
   "source": [
    "polygon_api_key = '<Your-API-Key>'"
   ]
  },
  {
   "cell_type": "code",
   "execution_count": 15,
   "id": "e35d611a-6fbf-472a-be73-e3645b948d40",
   "metadata": {},
   "outputs": [],
   "source": [
    "import requests\n",
    "\n",
    "def get_stock_data(ticker: str, start_date: str, end_date: str):\n",
    "  # Polygon.io API URL for AAPL stock data\n",
    "  url = f'https://api.polygon.io/v2/aggs/ticker/{ticker}/range/1/month/{start_date}/{end_date}?apiKey={polygon_api_key}'\n",
    "\n",
    "  # Make the GET request\n",
    "  response = requests.get(url)\n",
    "\n",
    "  # Check if the request was successful\n",
    "  if response.status_code == 200:\n",
    "      # Parse the JSON data\n",
    "      data = response.json()\n",
    "      return data\n",
    "  else:\n",
    "      print(f'Failed to retrieve data: {response.status_code}')"
   ]
  },
  {
   "cell_type": "code",
   "execution_count": 17,
   "id": "31aeba7f-d412-4179-8c1c-290baf6134fa",
   "metadata": {},
   "outputs": [],
   "source": [
    "data_AAPL=get_stock_data('AAPL','2024-01-01','2024-01-31')"
   ]
  },
  {
   "cell_type": "code",
   "execution_count": 18,
   "id": "79646c8e-7507-4a3f-bb8f-fdc7f856f513",
   "metadata": {
    "scrolled": true
   },
   "outputs": [
    {
     "data": {
      "text/plain": [
       "{'ticker': 'AAPL',\n",
       " 'queryCount': 21,\n",
       " 'resultsCount': 1,\n",
       " 'adjusted': True,\n",
       " 'results': [{'v': 1185397745.0,\n",
       "   'vw': 187.4015,\n",
       "   'o': 187.15,\n",
       "   'c': 184.4,\n",
       "   'h': 196.38,\n",
       "   'l': 180.17,\n",
       "   't': 1704085200000,\n",
       "   'n': 13710414}],\n",
       " 'status': 'OK',\n",
       " 'request_id': 'f51bc15df70d919826be5dd7a34646e6',\n",
       " 'count': 1}"
      ]
     },
     "execution_count": 18,
     "metadata": {},
     "output_type": "execute_result"
    }
   ],
   "source": [
    "data_AAPL"
   ]
  },
  {
   "cell_type": "code",
   "execution_count": 19,
   "id": "df0a1d71-1c24-4fa6-9eab-85367bc43e48",
   "metadata": {},
   "outputs": [],
   "source": [
    "import datetime\n",
    "import calendar\n",
    "\n",
    "def get_first_last_days(year_month_str):\n",
    "    # Parse the year and month from the input string\n",
    "    year, month = map(int, year_month_str.split('-'))\n",
    "\n",
    "    # First day of the month is always 1\n",
    "    first_day = datetime.date(year, month, 1)\n",
    "\n",
    "    # Get the last day of the month\n",
    "    last_day = datetime.date(year, month, calendar.monthrange(year, month)[1])\n",
    "\n",
    "    # Calculate the first day of the next month\n",
    "    if month == 12:\n",
    "        next_month_first_day = datetime.date(year + 1, 1, 1)\n",
    "    else:\n",
    "        next_month_first_day = datetime.date(year, month + 1, 1)\n",
    "\n",
    "    # Get the last day of the next month\n",
    "    next_month_last_day = datetime.date(next_month_first_day.year, next_month_first_day.month, calendar.monthrange(next_month_first_day.year, next_month_first_day.month)[1])\n",
    "\n",
    "    # Format the dates to the desired format\n",
    "    this_month_first_day_str = first_day.strftime('%Y-%m-%d')\n",
    "    this_month_last_day_str = last_day.strftime('%Y-%m-%d')\n",
    "    next_month_first_day_str = next_month_first_day.strftime('%Y-%m-%d')\n",
    "    next_month_last_day_str = next_month_last_day.strftime('%Y-%m-%d')\n",
    "\n",
    "    return this_month_first_day_str, this_month_last_day_str, next_month_first_day_str, next_month_last_day_str"
   ]
  },
  {
   "cell_type": "code",
   "execution_count": 23,
   "id": "726de6e1-5285-4390-b8a5-8a3d663110d7",
   "metadata": {},
   "outputs": [],
   "source": [
    "def get_all_monthly_stock_data(ticker: str):\n",
    "    stock_data = []\n",
    "    for month_year in training_data[ticker].keys():\n",
    "        # Extract year and month from month_year\n",
    "        year, month = map(int, month_year.split(\"-\"))\n",
    "\n",
    "        if year < 2015 or (year == 2015 and month < 12):\n",
    "            continue\n",
    "\n",
    "        this_month_first_day_str, this_month_last_day_str, next_month_first_day_str, next_month_last_day_str = get_first_last_days(month_year)\n",
    "        try:\n",
    "            this_month_data = get_stock_data(ticker, this_month_first_day_str, this_month_last_day_str)\n",
    "            next_month_data = get_stock_data(ticker, next_month_first_day_str, next_month_last_day_str)\n",
    "            monthly_stock_data = {\n",
    "                \"stock\": ticker,\n",
    "                \"month_year\": month_year,\n",
    "                \"this_month_vw\": this_month_data['results'][0]['vw'],\n",
    "                \"next_month_vw\": next_month_data['results'][0]['vw'],\n",
    "            }\n",
    "            monthly_stock_data['percentage_change'] = (monthly_stock_data['next_month_vw'] - monthly_stock_data['this_month_vw']) / monthly_stock_data['this_month_vw']\n",
    "            stock_data.append(monthly_stock_data)\n",
    "            print(f'Retrieved data for {ticker} in {month_year}')\n",
    "        except:\n",
    "            print(f'Failed to retrieve data for {ticker} in {month_year}')\n",
    "            continue\n",
    "    return stock_data"
   ]
  },
  {
   "cell_type": "markdown",
   "id": "05e1f666-a0a1-4d4d-bb21-104227d854de",
   "metadata": {},
   "source": [
    "**The output is failed beacuse using polygon basic API we can only get past 2 years data. To get more past historical data we need premium access to polygon API**"
   ]
  },
  {
   "cell_type": "code",
   "execution_count": 24,
   "id": "ac6a8d7b-9078-4b65-8c36-2da9a38a37ef",
   "metadata": {
    "scrolled": true
   },
   "outputs": [
    {
     "name": "stdout",
     "output_type": "stream",
     "text": [
      "Failed to retrieve data: 403\n",
      "Failed to retrieve data: 403\n",
      "Failed to retrieve data for AAPL in 2020-03\n",
      "Failed to retrieve data: 403\n",
      "Failed to retrieve data: 403\n",
      "Failed to retrieve data for AAPL in 2020-04\n",
      "Failed to retrieve data: 403\n",
      "Failed to retrieve data: 429\n",
      "Failed to retrieve data for AAPL in 2020-05\n",
      "Failed to retrieve data: 429\n",
      "Failed to retrieve data: 429\n",
      "Failed to retrieve data for AAPL in 2020-06\n"
     ]
    }
   ],
   "source": [
    "aapl_stock_data = get_all_monthly_stock_data('AAPL')"
   ]
  },
  {
   "cell_type": "markdown",
   "id": "000c341e-77cf-4c4c-905e-58e33dfb59db",
   "metadata": {},
   "source": [
    "**Combining stock price history data and training data into a cleaned dataset**"
   ]
  },
  {
   "cell_type": "code",
   "execution_count": 25,
   "id": "2135c367-fa55-406f-a779-bf5af5ee4595",
   "metadata": {},
   "outputs": [],
   "source": [
    "import json\n",
    "import os\n",
    "\n",
    "# Path to your folder containing .jsonl files\n",
    "folder_path = r\"C:\\Users\\Harsha\\FinBert-Stock prediction\\dataset\\stock_data\"\n",
    "\n",
    "# Initialize an empty list to store the dictionaries from all files\n",
    "stock_price_history_data_list = []\n",
    "\n",
    "# Iterate over each file in the folder\n",
    "for filename in os.listdir(folder_path):\n",
    "    if filename.endswith('.jsonl'):\n",
    "        file_path = os.path.join(folder_path, filename)\n",
    "\n",
    "        # Open and read each file\n",
    "        with open(file_path, 'r') as file:\n",
    "            for line in file:\n",
    "                # Convert each line into a dictionary and append to the list\n",
    "                stock_price_history_data_list.append(json.loads(line))"
   ]
  },
  {
   "cell_type": "code",
   "execution_count": 27,
   "id": "a29fd56d-24d0-471d-9952-8e886669dd01",
   "metadata": {
    "scrolled": true
   },
   "outputs": [
    {
     "data": {
      "text/plain": [
       "{'stock': 'A',\n",
       " 'month_year': '2019-02',\n",
       " 'this_month_vw': 77.448,\n",
       " 'next_month_vw': 80.0518,\n",
       " 'percentage_change': 0.03361997727507498}"
      ]
     },
     "execution_count": 27,
     "metadata": {},
     "output_type": "execute_result"
    }
   ],
   "source": [
    "stock_price_history_data_list[0]"
   ]
  },
  {
   "cell_type": "code",
   "execution_count": 28,
   "id": "a972a128-cad3-4992-a5b1-ff6dfe590e49",
   "metadata": {},
   "outputs": [],
   "source": [
    "stock_price_history_data = {}\n",
    "\n",
    "for entry in stock_price_history_data_list:\n",
    "    if entry['stock'] not in stock_price_history_data:\n",
    "        stock_price_history_data[entry['stock']] = {}\n",
    "    stock_price_history_data[entry['stock']][entry['month_year']] = {\n",
    "        'this_month_vw': entry['this_month_vw'],\n",
    "        'next_month_vw': entry['next_month_vw'],\n",
    "        'percentage_change': entry['percentage_change'],\n",
    "    }"
   ]
  },
  {
   "cell_type": "code",
   "execution_count": 29,
   "id": "1de24ebc-3e55-4fef-aedb-600b2d0e660f",
   "metadata": {},
   "outputs": [],
   "source": [
    "# Prepare training data\n",
    "import json\n",
    "\n",
    "# Path to your .jsonl file\n",
    "file_path = r\"C:\\Users\\Harsha\\FinBert-Stock prediction\\dataset\\training_data.jsonl\"\n",
    "\n",
    "# Initialize an empty list to store the dictionaries\n",
    "training_data_list = []\n",
    "\n",
    "# Open the file and read line by line\n",
    "with open(file_path, 'r') as file:\n",
    "    for line in file:\n",
    "        # Convert each line into a dictionary and append to the list\n",
    "        training_data_list.append(json.loads(line))\n",
    "\n",
    "training_data = {}\n",
    "\n",
    "for entry in training_data_list:\n",
    "    if entry['stock'] not in training_data:\n",
    "        training_data[entry['stock']] = {}\n",
    "    training_data[entry['stock']][entry['month_year']] = entry['data']"
   ]
  },
  {
   "cell_type": "code",
   "execution_count": 32,
   "id": "f1f3477b-4351-42fc-be6e-587d3a1ff6f3",
   "metadata": {},
   "outputs": [],
   "source": [
    "for ticker in stock_price_history_data.keys():\n",
    "    for month_year in stock_price_history_data[ticker].keys():\n",
    "        if month_year in training_data[ticker]:\n",
    "            entry = {\n",
    "                'stock': ticker,\n",
    "                'month_year': month_year,\n",
    "                'data': training_data[ticker][month_year]\n",
    "            }\n",
    "            # Store this to .jsonl file\n",
    "            with open(r'C:\\Users\\Harsha\\FinBert-Stock prediction\\dataset\\Final_data', 'a') as file:\n",
    "                file.write(json.dumps(entry) + '\\n')"
   ]
  }
 ],
 "metadata": {
  "kernelspec": {
   "display_name": "Python 3 (ipykernel)",
   "language": "python",
   "name": "python3"
  },
  "language_info": {
   "codemirror_mode": {
    "name": "ipython",
    "version": 3
   },
   "file_extension": ".py",
   "mimetype": "text/x-python",
   "name": "python",
   "nbconvert_exporter": "python",
   "pygments_lexer": "ipython3",
   "version": "3.12.4"
  }
 },
 "nbformat": 4,
 "nbformat_minor": 5
}
